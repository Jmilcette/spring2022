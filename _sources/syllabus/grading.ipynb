{
 "cells": [
  {
   "cell_type": "markdown",
   "id": "7031d450",
   "metadata": {},
   "source": [
    "# Grading\n",
    "\n",
    "This section of the syllabus describes the principles and mechanics of the grading for the course.\n",
    "<!-- This course will be graded on a basis of a set of *skills* (described in detail the next section of the syllabus). This is in contrast to more common grading on a basis of points earned through assignments. -->"
   ]
  },
  {
   "cell_type": "markdown",
   "id": "4ca04ce7",
   "metadata": {},
   "source": [
    "## Principles of Grading\n",
    "\n",
    "Learning happens through practice and feedback. My goal as a teacher is for you to learn. The grading in this course is based on your learning of the material, rather than your completion of the activities that are assigned.\n",
    "\n",
    "\n",
    "This course is designed to encourage you to work steadily at learning the material and demonstrating your new knowledge. There are no single points of failure, where you lose points that cannot be recovered. Also, you cannot cram anything one time and then forget it. The material will build and you have to demonstrate that you retained things.\n",
    "\n",
    "- Earning a C in this class means you have a general understanding; you will know what all the terms mean and could follow along if in a meeting where others were discussing systems concepts.  \n",
    "- Earning a B means that you could apply the course concepts in other programming environments; you can solve basic common errors without looking much up.\n",
    "- Earning an A means that you can use knowledge from this course to debug tricky scenarios and/or design aspects of systems; you can solve uncommon error while only looking up specific syntax, but you have an idea of where to start.\n",
    "<!-- Earning an A  -->"
   ]
  },
  {
   "cell_type": "markdown",
   "id": "9551c6f4",
   "metadata": {},
   "source": [
    "## No Grade Zone\n",
    "\n",
    "At the beginning of the course we will have a grade free zone where you practice with both course concepts and the tooling and assingment types to get used to expectations.  You will get feedback on lots of work and begin your Know, Want to know, Learned (KWL) Chart in this period.  \n",
    "\n",
    "\n",
    "## Grading Contract\n",
    "\n",
    "In about the third week you will complete, from a provided template, a grading contract.  In that you will state what grade you want to earn in the class and what work you are going to do to show that.  If you complete all of that work to a satisfactory level, you will get that grade.  The grade free zone is a chance for you to get used to the type of feedback in the course and the grading contract template will have example specifications to meet.\n",
    "\n",
    "The finalized grading contract will include the specification that each piece of work has to adhere to.\n",
    "\n",
    "All contracts will include maintaining a KWL Chart for the duration of the semester and consistent responses in class."
   ]
  }
 ],
 "metadata": {
  "jupytext": {
   "text_representation": {
    "extension": ".md",
    "format_name": "myst",
    "format_version": 0.12,
    "jupytext_version": "1.6.0"
   }
  },
  "kernelspec": {
   "display_name": "Python 3",
   "language": "python",
   "name": "python3"
  },
  "language_info": {
   "codemirror_mode": {
    "name": "ipython",
    "version": 3
   },
   "file_extension": ".py",
   "mimetype": "text/x-python",
   "name": "python",
   "nbconvert_exporter": "python",
   "pygments_lexer": "ipython3",
   "version": "3.7.12"
  },
  "source_map": [
   12,
   19,
   35
  ]
 },
 "nbformat": 4,
 "nbformat_minor": 5
}